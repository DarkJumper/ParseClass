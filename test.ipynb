{
 "metadata": {
  "language_info": {
   "codemirror_mode": {
    "name": "ipython",
    "version": 3
   },
   "file_extension": ".py",
   "mimetype": "text/x-python",
   "name": "python",
   "nbconvert_exporter": "python",
   "pygments_lexer": "ipython3",
   "version": "3.8.0-final"
  },
  "orig_nbformat": 2,
  "kernelspec": {
   "name": "Python 3.8.0 64-bit",
   "display_name": "Python 3.8.0 64-bit",
   "metadata": {
    "interpreter": {
     "hash": "0adcc2737ebf6a4a119f135174df96668767fca1ef1112612db5ecadf2b6d608"
    }
   }
  }
 },
 "nbformat": 4,
 "nbformat_minor": 2,
 "cells": [
  {
   "cell_type": "code",
   "execution_count": 1,
   "metadata": {},
   "outputs": [
    {
     "output_type": "stream",
     "name": "stdout",
     "text": [
      "['[PARA:PARADATA]', '217', 'OScan', '5', 'CHECK', '1', 'n', 'BusAdr', '4', 'BYTE', '2', '13', 'NoDataInCl', '5', 'CHECK', '1', 'j', 'WatchdogEn', '5', 'CHECK', '1', 'j', 'WtchdgTime', '4', 'UINT', '3', '150', 'FreezModeSp', '5', 'CHECK', '1', 'j', 'SyncModeSp', '5', 'CHECK', '1', 'j', 'SlvRedEn', '5', 'CHECK', '1', 'j', 'MSCYEnable', '5', 'CHECK', '1', 'j', 'GSDFile', '4', 'TEXT', '7', 'DTM.gsd']\n['[PARA:PARADATA]', '217', 'OScan', '5', 'CHECK', '1', 'n', 'BusAdr', '4', 'BYTE', '2', '12', 'NoDataInCl', '5', 'CHECK', '1', 'j', 'WatchdogEn', '5', 'CHECK', '1', 'j', 'WtchdgTime', '4', 'UINT', '3', '150', 'FreezModeSp', '5', 'CHECK', '1', 'n', 'SyncModeSp', '5', 'CHECK', '1', 'n', 'SlvRedEn', '5', 'CHECK', '1', 'j', 'MSCYEnable', '5', 'CHECK', '1', 'j', 'GSDFile', '4', 'TEXT', '16', 'Abb_0630_300.gsd']\n"
     ]
    }
   ],
   "source": [
    "data1 = \"[PARA:PARADATA];217;OScan;5;CHECK;1;n;BusAdr;4;BYTE;2;13;NoDataInCl;5;CHECK;1;j;WatchdogEn;5;CHECK;1;j;WtchdgTime;4;UINT;3;150;FreezModeSp;5;CHECK;1;j;SyncModeSp;5;CHECK;1;j;SlvRedEn;5;CHECK;1;j;MSCYEnable;5;CHECK;1;j;GSDFile;4;TEXT;7;DTM.gsd\"\n",
    "data2 = \"[PARA:PARADATA];217;OScan;5;CHECK;1;n;BusAdr;4;BYTE;2;12;NoDataInCl;5;CHECK;1;j;WatchdogEn;5;CHECK;1;j;WtchdgTime;4;UINT;3;150;FreezModeSp;5;CHECK;1;n;SyncModeSp;5;CHECK;1;n;SlvRedEn;5;CHECK;1;j;MSCYEnable;5;CHECK;1;j;GSDFile;4;TEXT;16;Abb_0630_300.gsd\"\n",
    "\n",
    "test1 = data1.split(\";\")\n",
    "test2 = data2.split(\";\")\n",
    "print(len(test1))\n",
    "print(len(test2))"
   ]
  },
  {
   "cell_type": "code",
   "execution_count": null,
   "metadata": {},
   "outputs": [],
   "source": []
  }
 ]
}